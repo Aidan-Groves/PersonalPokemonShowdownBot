{
 "cells": [
  {
   "cell_type": "code",
   "execution_count": 2,
   "id": "67271250-be6d-4d96-8f98-ca7d94e7fce0",
   "metadata": {
    "tags": []
   },
   "outputs": [
    {
     "name": "stdout",
     "output_type": "stream",
     "text": [
      "Parsed 27 from gen9doublesubers-2374223819.log\n",
      "Parsed 11 from gen9doublesubers-2374225913.log\n",
      "Parsed 25 from gen9doublesubers-2374228798.log\n",
      "Parsed 29 from gen9doublesubers-2374524555.log\n",
      "Parsed 19 from gen9doublesubers-2374529916.log\n",
      "Parsed 22 from gen9doublesubers-2374533533.log\n",
      "Parsed 21 from gen9doublesubers-2374545013.log\n",
      "\n",
      "Total state-action pairs collected: 154\n",
      "Example sample: ('opponent switch Maushold-Four opponent switch Archaludon', 'switch Amoonguss')\n"
     ]
    }
   ],
   "source": []
  },
  {
   "cell_type": "code",
   "execution_count": null,
   "id": "9095773e-9899-4e31-b0be-5ea0a695a815",
   "metadata": {},
   "outputs": [],
   "source": []
  }
 ],
 "metadata": {
  "kernelspec": {
   "display_name": "Python 3 (ipykernel)",
   "language": "python",
   "name": "python3"
  },
  "language_info": {
   "codemirror_mode": {
    "name": "ipython",
    "version": 3
   },
   "file_extension": ".py",
   "mimetype": "text/x-python",
   "name": "python",
   "nbconvert_exporter": "python",
   "pygments_lexer": "ipython3",
   "version": "3.11.5"
  }
 },
 "nbformat": 4,
 "nbformat_minor": 5
}
