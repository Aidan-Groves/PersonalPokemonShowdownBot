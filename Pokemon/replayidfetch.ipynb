{
 "cells": [
  {
   "cell_type": "code",
   "execution_count": 4,
   "id": "2cb0ffc1-8e38-454e-b155-32ef96d85f5a",
   "metadata": {
    "tags": []
   },
   "outputs": [
    {
     "name": "stdout",
     "output_type": "stream",
     "text": [
      "Saved DoubleBattleLogs\\gen9doublesubers-2374545013.log\n",
      "Saved DoubleBattleLogs\\gen9doublesubers-2374533533.log\n",
      "Saved DoubleBattleLogs\\gen9doublesubers-2374529916.log\n",
      "Saved DoubleBattleLogs\\gen9doublesubers-2374524555.log\n",
      "Saved DoubleBattleLogs\\gen9doublesubers-2374228798.log\n",
      "Saved DoubleBattleLogs\\gen9doublesubers-2374228798.log\n",
      "Saved DoubleBattleLogs\\gen9doublesubers-2374225913.log\n",
      "Saved DoubleBattleLogs\\gen9doublesubers-2374223819.log\n",
      "Saved DoubleBattleLogs\\gen9doublesubers-2374595064.log\n",
      "Saved DoubleBattleLogs\\gen9doublesubers-2374592302.log\n",
      "Saved DoubleBattleLogs\\gen9doublesubers-2374589924.log\n",
      "Saved DoubleBattleLogs\\gen9doublesubers-2374600429.log\n",
      "Saved DoubleBattleLogs\\gen9doublesubers-2374603218-i2jq8es1gtleug5vxnmvfn6xrqy58c1pw.log\n",
      "Saved DoubleBattleLogs\\gen9doublesubers-2374608156-cf6wq2nh5is68mk15iq4j1vx072jnkgpw.log\n",
      "Saved DoubleBattleLogs\\gen9doublesubers-2374618018.log\n",
      "Saved DoubleBattleLogs\\gen9doublesubers-2374624385.log\n",
      "Saved DoubleBattleLogs\\gen9doublesubers-2374633057-ky2fuunboavtsa55fwspvn676r1p2hipw.log\n"
     ]
    }
   ],
   "source": [
    "import requests\n",
    "import os\n",
    "\n",
    "# List your replay URLs or IDs\n",
    "replays = [\n",
    "    \"gen9doublesubers-2374545013\",\n",
    "    \"gen9doublesubers-2374533533\",\n",
    "    \"gen9doublesubers-2374529916\",\n",
    "    \"gen9doublesubers-2374524555\",\n",
    "    \"gen9doublesubers-2374228798\",\n",
    "    \"gen9doublesubers-2374228798\",\n",
    "    \"gen9doublesubers-2374225913\",\n",
    "    \"gen9doublesubers-2374223819\",\n",
    "    \"gen9doublesubers-2374595064\",\n",
    "    \"gen9doublesubers-2374592302\",\n",
    "    \"gen9doublesubers-2374589924\",\n",
    "    \"gen9doublesubers-2374600429\",\n",
    "    \"gen9doublesubers-2374603218-i2jq8es1gtleug5vxnmvfn6xrqy58c1pw\",\n",
    "    \"gen9doublesubers-2374608156-cf6wq2nh5is68mk15iq4j1vx072jnkgpw\",\n",
    "    \"gen9doublesubers-2374618018\",\n",
    "    \"gen9doublesubers-2374624385\",\n",
    "    \"gen9doublesubers-2374633057-ky2fuunboavtsa55fwspvn676r1p2hipw\",\n",
    "    \n",
    "    \n",
    "    # ... add more as needed\n",
    "]\n",
    "Folder_path = 'DoubleBattleLogs'\n",
    "\n",
    "for replay_id in replays:\n",
    "    url = f\"https://replay.pokemonshowdown.com/{replay_id}.log\"\n",
    "    resp = requests.get(url)\n",
    "    if resp.status_code == 200:\n",
    "        text = resp.text\n",
    "        # Save to file named after the replay ID\n",
    "        filename = os.path.join(Folder_path, replay_id + \".log\")\n",
    "        with open(filename, \"w\", encoding=\"utf-8\") as f:\n",
    "            f.write(text)\n",
    "        print(f\"Saved {filename}\")\n",
    "    else:\n",
    "        print(f\"Failed to fetch {replay_id}\")\n"
   ]
  },
  {
   "cell_type": "code",
   "execution_count": null,
   "id": "c463c3d0-b1e5-44c6-91ef-144428149384",
   "metadata": {},
   "outputs": [],
   "source": []
  }
 ],
 "metadata": {
  "kernelspec": {
   "display_name": "Python 3 (ipykernel)",
   "language": "python",
   "name": "python3"
  },
  "language_info": {
   "codemirror_mode": {
    "name": "ipython",
    "version": 3
   },
   "file_extension": ".py",
   "mimetype": "text/x-python",
   "name": "python",
   "nbconvert_exporter": "python",
   "pygments_lexer": "ipython3",
   "version": "3.11.5"
  }
 },
 "nbformat": 4,
 "nbformat_minor": 5
}
